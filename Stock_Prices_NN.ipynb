{
  "nbformat": 4,
  "nbformat_minor": 0,
  "metadata": {
    "colab": {
      "name": "Stock_Prices_NN.ipynb",
      "provenance": []
    },
    "kernelspec": {
      "name": "python3",
      "display_name": "Python 3"
    }
  },
  "cells": [
    {
      "cell_type": "code",
      "metadata": {
        "id": "xpZovFrlCQK5",
        "colab_type": "code",
        "colab": {}
      },
      "source": [
        "import numpy as np # linear algebra\n",
        "import pandas as pd # data processing, CSV file I/O (e.g. pd.read_csv)\n",
        "import json\n",
        "import matplotlib\n",
        "import matplotlib.pyplot as plt\n",
        "from keras.metrics import mean_absolute_error\n",
        "from keras.metrics import mean_absolute_percentage_error\n",
        "from keras.metrics import mean_squared_error\n",
        "\n",
        "\n",
        "# Libraries for displying the data. \n",
        "from IPython.core.display import HTML \n",
        "from ipywidgets import interact\n",
        "from IPython.display import display\n",
        "import seaborn as sns\n",
        "%matplotlib inline"
      ],
      "execution_count": 0,
      "outputs": []
    },
    {
      "cell_type": "code",
      "metadata": {
        "id": "Ftle4fNYCyyz",
        "colab_type": "code",
        "colab": {}
      },
      "source": [
        "from pydrive.auth import GoogleAuth\n",
        "from pydrive.drive import GoogleDrive\n",
        "from google.colab import auth\n",
        "from oauth2client.client import GoogleCredentials\n",
        "auth.authenticate_user()\n",
        "gauth = GoogleAuth()\n",
        "gauth.credentials = GoogleCredentials.get_application_default()\n",
        "drive = GoogleDrive(gauth)"
      ],
      "execution_count": 0,
      "outputs": []
    },
    {
      "cell_type": "code",
      "metadata": {
        "id": "5j4NSo7CC10v",
        "colab_type": "code",
        "colab": {}
      },
      "source": [
        "#Dataset\n",
        "downloaded = drive.CreateFile({'id':\"12f9gd7u5hGDwWEZgOd-O9iMkM6lE9vF-\"})   # replace the id with id of file you want to access\n",
        "downloaded.GetContentFile('stock_prices_sample.csv')        # replace the file name with your file\n",
        "#Dataset\n",
        "downloaded = drive.CreateFile({'id':\"1jJapq3dnv8iyMHtxJSp-hRJl8E1rCrUu\"})   # replace the id with id of file you want to access\n",
        "downloaded.GetContentFile('data.csv')        # replace the file name with your file"
      ],
      "execution_count": 0,
      "outputs": []
    },
    {
      "cell_type": "code",
      "metadata": {
        "id": "OtJJ2-qMDA0Z",
        "colab_type": "code",
        "colab": {}
      },
      "source": [
        "stock_prices = pd.read_csv('stock_prices_sample.csv')"
      ],
      "execution_count": 0,
      "outputs": []
    },
    {
      "cell_type": "code",
      "metadata": {
        "id": "1cUpNE5RDFbb",
        "colab_type": "code",
        "colab": {}
      },
      "source": [
        "stock_prices['DATE'] = pd.to_datetime(stock_prices[\"DATE\"])\n",
        "stock_prices['date'] = stock_prices['DATE']\n",
        "stock_prices = stock_prices.sort_values(by=\"DATE\")\n",
        "stock_prices.set_index(\"DATE\", inplace = True) \n",
        "stock_prices['Year']=stock_prices.index.year\n",
        "stock_prices = stock_prices[stock_prices.Year != 2013]"
      ],
      "execution_count": 0,
      "outputs": []
    },
    {
      "cell_type": "code",
      "metadata": {
        "id": "KJtcihw-DIsL",
        "colab_type": "code",
        "outputId": "1086bed8-d940-4a21-909b-d6a9e5ca30b6",
        "colab": {
          "base_uri": "https://localhost:8080/",
          "height": 282
        }
      },
      "source": [
        "sns.lineplot(data=stock_prices['OPEN'], label=\"OPEN\") "
      ],
      "execution_count": 0,
      "outputs": [
        {
          "output_type": "execute_result",
          "data": {
            "text/plain": [
              "<matplotlib.axes._subplots.AxesSubplot at 0x7f007c8adb00>"
            ]
          },
          "metadata": {
            "tags": []
          },
          "execution_count": 35
        },
        {
          "output_type": "display_data",
          "data": {
            "image/png": "[encoded data removed]",
            "text/plain": [
              "<Figure size 432x288 with 1 Axes>"
            ]
          },
          "metadata": {
            "tags": [],
            "needs_background": "light"
          }
        }
      ]
    },
    {
      "cell_type": "code",
      "metadata": {
        "id": "rHOfrrACMlqe",
        "colab_type": "code",
        "colab": {}
      },
      "source": [
        "def lag_features(df , N , col , col_index):\n",
        "  \"adds lag features of the given columnb for previous N days\"\n",
        "  series = df[col]\n",
        "  for i in range(N):\n",
        "    shifted_rows = np.zeros(len(df))\n",
        "    shifted_rows[:] = np.nan\n",
        "    array_index = i+1\n",
        "    for j in range(len(df)-(i+1)):\n",
        "      shifted_rows[array_index] = df.iloc[j,col_index]\n",
        "      array_index = array_index + 1 \n",
        "      df[col+'_lag_'+str(i+1)] = shifted_rows\n",
        "  return df"
      ],
      "execution_count": 0,
      "outputs": []
    },
    {
      "cell_type": "code",
      "metadata": {
        "id": "-mDGZdrCmEoe",
        "colab_type": "code",
        "outputId": "98e15c8f-7098-4838-8e06-4bbac476b7a2",
        "colab": {
          "base_uri": "https://localhost:8080/",
          "height": 85
        }
      },
      "source": [
        "stock_prices.columns"
      ],
      "execution_count": 0,
      "outputs": [
        {
          "output_type": "execute_result",
          "data": {
            "text/plain": [
              "Index(['TICKER', 'FIGI', 'TYPE', 'FREQUENCY', 'OPEN', 'HIGH', 'LOW', 'CLOSE',\n",
              "       'VOLUME', 'ADJ_OPEN', 'ADJ_HIGH', 'ADJ_LOW', 'ADJ_CLOSE', 'ADJ_VOLUME',\n",
              "       'ADJ_FACTOR', 'EX_DIVIDEND', 'SPLIT_RATIO', 'date', 'Year'],\n",
              "      dtype='object')"
            ]
          },
          "metadata": {
            "tags": []
          },
          "execution_count": 37
        }
      ]
    },
    {
      "cell_type": "code",
      "metadata": {
        "id": "LThdvvdNn_SC",
        "colab_type": "code",
        "colab": {}
      },
      "source": [
        "stock_prices = stock_prices[['OPEN', 'HIGH', 'LOW', 'CLOSE','VOLUME' , 'date' , 'Year']]"
      ],
      "execution_count": 0,
      "outputs": []
    },
    {
      "cell_type": "code",
      "metadata": {
        "id": "HeR-mJ1foXA6",
        "colab_type": "code",
        "colab": {}
      },
      "source": [
        "stock_prices_w_lag = lag_features(stock_prices,7,'OPEN',0)"
      ],
      "execution_count": 0,
      "outputs": []
    },
    {
      "cell_type": "code",
      "metadata": {
        "id": "aDVAAqQnMK5Q",
        "colab_type": "code",
        "colab": {}
      },
      "source": [
        "stock_prices_w_lag. dropna( inplace = True)"
      ],
      "execution_count": 0,
      "outputs": []
    },
    {
      "cell_type": "markdown",
      "metadata": {
        "id": "s62Gp2CQfweZ",
        "colab_type": "text"
      },
      "source": [
        "**Deep Neural Network**"
      ]
    },
    {
      "cell_type": "code",
      "metadata": {
        "id": "0tu-acacMXNB",
        "colab_type": "code",
        "colab": {}
      },
      "source": [
        "import keras\n",
        "from keras.layers import Dense\n",
        "from keras.models import Sequential \n",
        "from keras.activations import relu\n",
        "from keras.activations import softmax\n",
        "from keras.optimizers import SGD\n",
        "from keras.callbacks import EarlyStopping"
      ],
      "execution_count": 0,
      "outputs": []
    },
    {
      "cell_type": "code",
      "metadata": {
        "id": "1I2pI_71MyWT",
        "colab_type": "code",
        "colab": {}
      },
      "source": [
        "model = Sequential()\n",
        "model.add(Dense(100, activation='relu', input_shape=[7]))\n",
        "model.add(Dense(10, activation='relu'))\n",
        "model.add(Dense(1))\n",
        "model.compile(loss=\"mse\", optimizer=SGD(lr=1e-6, momentum=0.9))"
      ],
      "execution_count": 0,
      "outputs": []
    },
    {
      "cell_type": "code",
      "metadata": {
        "id": "8NQoAVFnZ6O1",
        "colab_type": "code",
        "colab": {}
      },
      "source": [
        "trainX = np.array(stock_prices_w_lag[['OPEN_lag_1' , 'OPEN_lag_2' , 'OPEN_lag_3' , 'OPEN_lag_4' , 'OPEN_lag_5' , 'OPEN_lag_6' ,'OPEN_lag_7']])\n",
        "trainY = np.array(stock_prices_w_lag['OPEN'])"
      ],
      "execution_count": 0,
      "outputs": []
    },
    {
      "cell_type": "code",
      "metadata": {
        "id": "DraamZ_VcPKm",
        "colab_type": "code",
        "colab": {}
      },
      "source": [
        "testX = trainX[:100]\n",
        "trainX = trainX[100:]\n",
        "testY = trainY[:100]\n",
        "trainY = trainY[100:]\n"
      ],
      "execution_count": 0,
      "outputs": []
    },
    {
      "cell_type": "code",
      "metadata": {
        "id": "2tTBfnhXdGWg",
        "colab_type": "code",
        "outputId": "ec50c344-3b34-47c7-bbfc-8e453783bca3",
        "colab": {
          "base_uri": "https://localhost:8080/",
          "height": 34
        }
      },
      "source": [
        "trainX.shape"
      ],
      "execution_count": 0,
      "outputs": [
        {
          "output_type": "execute_result",
          "data": {
            "text/plain": [
              "(889, 7)"
            ]
          },
          "metadata": {
            "tags": []
          },
          "execution_count": 16
        }
      ]
    },
    {
      "cell_type": "code",
      "metadata": {
        "id": "9-IfEIrqYuVD",
        "colab_type": "code",
        "outputId": "af0c723c-d7a9-46bc-a1ae-b8d42e875366",
        "colab": {
          "base_uri": "https://localhost:8080/",
          "height": 1000
        }
      },
      "source": [
        "early_stopping_monitor = EarlyStopping(patience=3)\n",
        "model.fit(trainX , trainY, validation_split=0.2, epochs=100, callbacks=[early_stopping_monitor] , verbose=1)"
      ],
      "execution_count": 0,
      "outputs": [
        {
          "output_type": "stream",
          "text": [
            "Train on 711 samples, validate on 178 samples\n",
            "Epoch 1/100\n",
            "711/711 [==============================] - 0s 44us/step - loss: 0.2264 - val_loss: 0.2489\n",
            "Epoch 2/100\n",
            "711/711 [==============================] - 0s 37us/step - loss: 0.2264 - val_loss: 0.2489\n",
            "Epoch 3/100\n",
            "711/711 [==============================] - 0s 37us/step - loss: 0.2264 - val_loss: 0.2488\n",
            "Epoch 4/100\n",
            "711/711 [==============================] - 0s 34us/step - loss: 0.2263 - val_loss: 0.2488\n",
            "Epoch 5/100\n",
            "711/711 [==============================] - 0s 35us/step - loss: 0.2264 - val_loss: 0.2488\n",
            "Epoch 6/100\n",
            "711/711 [==============================] - 0s 36us/step - loss: 0.2263 - val_loss: 0.2487\n",
            "Epoch 7/100\n",
            "711/711 [==============================] - 0s 33us/step - loss: 0.2263 - val_loss: 0.2487\n",
            "Epoch 8/100\n",
            "711/711 [==============================] - 0s 35us/step - loss: 0.2264 - val_loss: 0.2487\n",
            "Epoch 9/100\n",
            "711/711 [==============================] - 0s 33us/step - loss: 0.2261 - val_loss: 0.2487\n",
            "Epoch 10/100\n",
            "711/711 [==============================] - 0s 35us/step - loss: 0.2263 - val_loss: 0.2486\n",
            "Epoch 11/100\n",
            "711/711 [==============================] - 0s 33us/step - loss: 0.2262 - val_loss: 0.2487\n",
            "Epoch 12/100\n",
            "711/711 [==============================] - 0s 35us/step - loss: 0.2262 - val_loss: 0.2486\n",
            "Epoch 13/100\n",
            "711/711 [==============================] - 0s 36us/step - loss: 0.2261 - val_loss: 0.2486\n",
            "Epoch 14/100\n",
            "711/711 [==============================] - 0s 39us/step - loss: 0.2261 - val_loss: 0.2486\n",
            "Epoch 15/100\n",
            "711/711 [==============================] - 0s 39us/step - loss: 0.2260 - val_loss: 0.2485\n",
            "Epoch 16/100\n",
            "711/711 [==============================] - 0s 37us/step - loss: 0.2261 - val_loss: 0.2485\n",
            "Epoch 17/100\n",
            "711/711 [==============================] - 0s 39us/step - loss: 0.2260 - val_loss: 0.2484\n",
            "Epoch 18/100\n",
            "711/711 [==============================] - 0s 39us/step - loss: 0.2260 - val_loss: 0.2484\n",
            "Epoch 19/100\n",
            "711/711 [==============================] - 0s 38us/step - loss: 0.2260 - val_loss: 0.2484\n",
            "Epoch 20/100\n",
            "711/711 [==============================] - 0s 38us/step - loss: 0.2262 - val_loss: 0.2484\n",
            "Epoch 21/100\n",
            "711/711 [==============================] - 0s 45us/step - loss: 0.2261 - val_loss: 0.2483\n",
            "Epoch 22/100\n",
            "711/711 [==============================] - 0s 42us/step - loss: 0.2258 - val_loss: 0.2483\n",
            "Epoch 23/100\n",
            "711/711 [==============================] - 0s 40us/step - loss: 0.2260 - val_loss: 0.2482\n",
            "Epoch 24/100\n",
            "711/711 [==============================] - 0s 39us/step - loss: 0.2257 - val_loss: 0.2482\n",
            "Epoch 25/100\n",
            "711/711 [==============================] - 0s 39us/step - loss: 0.2260 - val_loss: 0.2484\n",
            "Epoch 26/100\n",
            "711/711 [==============================] - 0s 39us/step - loss: 0.2257 - val_loss: 0.2481\n",
            "Epoch 27/100\n",
            "711/711 [==============================] - 0s 39us/step - loss: 0.2258 - val_loss: 0.2481\n",
            "Epoch 28/100\n",
            "711/711 [==============================] - 0s 39us/step - loss: 0.2258 - val_loss: 0.2481\n",
            "Epoch 29/100\n",
            "711/711 [==============================] - 0s 40us/step - loss: 0.2257 - val_loss: 0.2480\n",
            "Epoch 30/100\n",
            "711/711 [==============================] - 0s 41us/step - loss: 0.2257 - val_loss: 0.2480\n",
            "Epoch 31/100\n",
            "711/711 [==============================] - 0s 39us/step - loss: 0.2257 - val_loss: 0.2480\n",
            "Epoch 32/100\n",
            "711/711 [==============================] - 0s 38us/step - loss: 0.2258 - val_loss: 0.2480\n",
            "Epoch 33/100\n",
            "711/711 [==============================] - 0s 46us/step - loss: 0.2255 - val_loss: 0.2479\n",
            "Epoch 34/100\n",
            "711/711 [==============================] - 0s 41us/step - loss: 0.2258 - val_loss: 0.2480\n",
            "Epoch 35/100\n",
            "711/711 [==============================] - 0s 56us/step - loss: 0.2256 - val_loss: 0.2479\n",
            "Epoch 36/100\n",
            "711/711 [==============================] - 0s 43us/step - loss: 0.2255 - val_loss: 0.2478\n",
            "Epoch 37/100\n",
            "711/711 [==============================] - 0s 40us/step - loss: 0.2254 - val_loss: 0.2478\n",
            "Epoch 38/100\n",
            "711/711 [==============================] - 0s 38us/step - loss: 0.2255 - val_loss: 0.2478\n",
            "Epoch 39/100\n",
            "711/711 [==============================] - 0s 38us/step - loss: 0.2254 - val_loss: 0.2477\n",
            "Epoch 40/100\n",
            "711/711 [==============================] - 0s 39us/step - loss: 0.2254 - val_loss: 0.2477\n",
            "Epoch 41/100\n",
            "711/711 [==============================] - 0s 39us/step - loss: 0.2254 - val_loss: 0.2477\n",
            "Epoch 42/100\n",
            "711/711 [==============================] - 0s 38us/step - loss: 0.2253 - val_loss: 0.2476\n",
            "Epoch 43/100\n",
            "711/711 [==============================] - 0s 35us/step - loss: 0.2255 - val_loss: 0.2476\n",
            "Epoch 44/100\n",
            "711/711 [==============================] - 0s 35us/step - loss: 0.2252 - val_loss: 0.2476\n",
            "Epoch 45/100\n",
            "711/711 [==============================] - 0s 35us/step - loss: 0.2254 - val_loss: 0.2475\n",
            "Epoch 46/100\n",
            "711/711 [==============================] - 0s 37us/step - loss: 0.2253 - val_loss: 0.2475\n",
            "Epoch 47/100\n",
            "711/711 [==============================] - 0s 35us/step - loss: 0.2251 - val_loss: 0.2475\n",
            "Epoch 48/100\n",
            "711/711 [==============================] - 0s 38us/step - loss: 0.2252 - val_loss: 0.2475\n",
            "Epoch 49/100\n",
            "711/711 [==============================] - 0s 40us/step - loss: 0.2254 - val_loss: 0.2480\n",
            "Epoch 50/100\n",
            "711/711 [==============================] - 0s 35us/step - loss: 0.2253 - val_loss: 0.2474\n",
            "Epoch 51/100\n",
            "711/711 [==============================] - 0s 38us/step - loss: 0.2252 - val_loss: 0.2473\n",
            "Epoch 52/100\n",
            "711/711 [==============================] - 0s 38us/step - loss: 0.2249 - val_loss: 0.2475\n",
            "Epoch 53/100\n",
            "711/711 [==============================] - 0s 37us/step - loss: 0.2250 - val_loss: 0.2474\n",
            "Epoch 54/100\n",
            "711/711 [==============================] - 0s 35us/step - loss: 0.2251 - val_loss: 0.2473\n",
            "Epoch 55/100\n",
            "711/711 [==============================] - 0s 34us/step - loss: 0.2249 - val_loss: 0.2473\n",
            "Epoch 56/100\n",
            "711/711 [==============================] - 0s 36us/step - loss: 0.2249 - val_loss: 0.2473\n",
            "Epoch 57/100\n",
            "711/711 [==============================] - 0s 35us/step - loss: 0.2249 - val_loss: 0.2472\n",
            "Epoch 58/100\n",
            "711/711 [==============================] - 0s 35us/step - loss: 0.2248 - val_loss: 0.2471\n",
            "Epoch 59/100\n",
            "711/711 [==============================] - 0s 35us/step - loss: 0.2254 - val_loss: 0.2472\n",
            "Epoch 60/100\n",
            "711/711 [==============================] - 0s 36us/step - loss: 0.2247 - val_loss: 0.2471\n",
            "Epoch 61/100\n",
            "711/711 [==============================] - 0s 38us/step - loss: 0.2249 - val_loss: 0.2470\n",
            "Epoch 62/100\n",
            "711/711 [==============================] - 0s 35us/step - loss: 0.2247 - val_loss: 0.2470\n",
            "Epoch 63/100\n",
            "711/711 [==============================] - 0s 40us/step - loss: 0.2251 - val_loss: 0.2472\n",
            "Epoch 64/100\n",
            "711/711 [==============================] - 0s 36us/step - loss: 0.2248 - val_loss: 0.2470\n",
            "Epoch 65/100\n",
            "711/711 [==============================] - 0s 37us/step - loss: 0.2247 - val_loss: 0.2469\n",
            "Epoch 66/100\n",
            "711/711 [==============================] - 0s 37us/step - loss: 0.2248 - val_loss: 0.2469\n",
            "Epoch 67/100\n",
            "711/711 [==============================] - 0s 35us/step - loss: 0.2248 - val_loss: 0.2469\n",
            "Epoch 68/100\n",
            "711/711 [==============================] - 0s 35us/step - loss: 0.2245 - val_loss: 0.2468\n",
            "Epoch 69/100\n",
            "711/711 [==============================] - 0s 35us/step - loss: 0.2245 - val_loss: 0.2468\n",
            "Epoch 70/100\n",
            "711/711 [==============================] - 0s 37us/step - loss: 0.2245 - val_loss: 0.2468\n",
            "Epoch 71/100\n",
            "711/711 [==============================] - 0s 38us/step - loss: 0.2246 - val_loss: 0.2467\n",
            "Epoch 72/100\n",
            "711/711 [==============================] - 0s 45us/step - loss: 0.2244 - val_loss: 0.2467\n",
            "Epoch 73/100\n",
            "711/711 [==============================] - 0s 38us/step - loss: 0.2244 - val_loss: 0.2467\n",
            "Epoch 74/100\n",
            "711/711 [==============================] - 0s 35us/step - loss: 0.2244 - val_loss: 0.2466\n",
            "Epoch 75/100\n",
            "711/711 [==============================] - 0s 38us/step - loss: 0.2244 - val_loss: 0.2466\n",
            "Epoch 76/100\n",
            "711/711 [==============================] - 0s 36us/step - loss: 0.2243 - val_loss: 0.2466\n",
            "Epoch 77/100\n",
            "711/711 [==============================] - 0s 36us/step - loss: 0.2244 - val_loss: 0.2466\n",
            "Epoch 78/100\n",
            "711/711 [==============================] - 0s 37us/step - loss: 0.2243 - val_loss: 0.2465\n",
            "Epoch 79/100\n",
            "711/711 [==============================] - 0s 38us/step - loss: 0.2244 - val_loss: 0.2465\n",
            "Epoch 80/100\n",
            "711/711 [==============================] - 0s 38us/step - loss: 0.2242 - val_loss: 0.2465\n",
            "Epoch 81/100\n",
            "711/711 [==============================] - 0s 39us/step - loss: 0.2242 - val_loss: 0.2464\n",
            "Epoch 82/100\n",
            "711/711 [==============================] - 0s 35us/step - loss: 0.2243 - val_loss: 0.2464\n",
            "Epoch 83/100\n",
            "711/711 [==============================] - 0s 38us/step - loss: 0.2242 - val_loss: 0.2464\n",
            "Epoch 84/100\n",
            "711/711 [==============================] - 0s 40us/step - loss: 0.2240 - val_loss: 0.2466\n",
            "Epoch 85/100\n",
            "711/711 [==============================] - 0s 39us/step - loss: 0.2241 - val_loss: 0.2464\n",
            "Epoch 86/100\n",
            "711/711 [==============================] - 0s 48us/step - loss: 0.2241 - val_loss: 0.2463\n",
            "Epoch 87/100\n",
            "711/711 [==============================] - 0s 43us/step - loss: 0.2240 - val_loss: 0.2462\n",
            "Epoch 88/100\n",
            "711/711 [==============================] - 0s 35us/step - loss: 0.2240 - val_loss: 0.2462\n",
            "Epoch 89/100\n",
            "711/711 [==============================] - 0s 36us/step - loss: 0.2240 - val_loss: 0.2462\n",
            "Epoch 90/100\n",
            "711/711 [==============================] - 0s 35us/step - loss: 0.2239 - val_loss: 0.2462\n",
            "Epoch 91/100\n",
            "711/711 [==============================] - 0s 34us/step - loss: 0.2239 - val_loss: 0.2461\n",
            "Epoch 92/100\n",
            "711/711 [==============================] - 0s 35us/step - loss: 0.2239 - val_loss: 0.2461\n",
            "Epoch 93/100\n",
            "711/711 [==============================] - 0s 36us/step - loss: 0.2242 - val_loss: 0.2465\n",
            "Epoch 94/100\n",
            "711/711 [==============================] - 0s 37us/step - loss: 0.2240 - val_loss: 0.2462\n",
            "Epoch 95/100\n",
            "711/711 [==============================] - 0s 36us/step - loss: 0.2239 - val_loss: 0.2460\n",
            "Epoch 96/100\n",
            "711/711 [==============================] - 0s 36us/step - loss: 0.2238 - val_loss: 0.2459\n",
            "Epoch 97/100\n",
            "711/711 [==============================] - 0s 34us/step - loss: 0.2237 - val_loss: 0.2460\n",
            "Epoch 98/100\n",
            "711/711 [==============================] - 0s 34us/step - loss: 0.2239 - val_loss: 0.2459\n",
            "Epoch 99/100\n",
            "711/711 [==============================] - 0s 34us/step - loss: 0.2237 - val_loss: 0.2459\n",
            "Epoch 100/100\n",
            "711/711 [==============================] - 0s 33us/step - loss: 0.2237 - val_loss: 0.2458\n"
          ],
          "name": "stdout"
        },
        {
          "output_type": "execute_result",
          "data": {
            "text/plain": [
              "<keras.callbacks.callbacks.History at 0x7f007afe1f28>"
            ]
          },
          "metadata": {
            "tags": []
          },
          "execution_count": 77
        }
      ]
    },
    {
      "cell_type": "code",
      "metadata": {
        "id": "1fvYfIW_dfm6",
        "colab_type": "code",
        "colab": {}
      },
      "source": [
        "pred = model.predict(testX)"
      ],
      "execution_count": 0,
      "outputs": []
    },
    {
      "cell_type": "code",
      "metadata": {
        "id": "Al3p25q8doJW",
        "colab_type": "code",
        "outputId": "2ea29279-4586-4f5c-caf3-18f1914c1888",
        "colab": {
          "base_uri": "https://localhost:8080/",
          "height": 68
        }
      },
      "source": [
        "print(keras.metrics.mean_squared_error(testY, pred).numpy().mean())\n",
        "print(keras.metrics.mean_absolute_error(testY, pred).numpy().mean())\n",
        "print(keras.metrics.mean_absolute_percentage_error(testY, pred).numpy().mean())"
      ],
      "execution_count": 0,
      "outputs": [
        {
          "output_type": "stream",
          "text": [
            "1.5677544\n",
            "0.9993111\n",
            "5.890814\n"
          ],
          "name": "stdout"
        }
      ]
    },
    {
      "cell_type": "code",
      "metadata": {
        "id": "0IIJ9EzYOq3L",
        "colab_type": "code",
        "colab": {}
      },
      "source": [
        " pred = pred.reshape(100)"
      ],
      "execution_count": 0,
      "outputs": []
    },
    {
      "cell_type": "code",
      "metadata": {
        "id": "lMyehQi6OxO1",
        "colab_type": "code",
        "outputId": "075d36d1-7c42-4dbb-8d74-5bd2657180fe",
        "colab": {
          "base_uri": "https://localhost:8080/",
          "height": 34
        }
      },
      "source": [
        "pred.shape"
      ],
      "execution_count": 0,
      "outputs": [
        {
          "output_type": "execute_result",
          "data": {
            "text/plain": [
              "(100,)"
            ]
          },
          "metadata": {
            "tags": []
          },
          "execution_count": 81
        }
      ]
    },
    {
      "cell_type": "code",
      "metadata": {
        "id": "KRooh2aTO0ys",
        "colab_type": "code",
        "colab": {}
      },
      "source": [
        "d = {'pred': pred, 'testY': testY}\n",
        "df = pd.DataFrame(data=d)"
      ],
      "execution_count": 0,
      "outputs": []
    },
    {
      "cell_type": "code",
      "metadata": {
        "id": "7XPJ_7csO5Jl",
        "colab_type": "code",
        "outputId": "14a0d26e-d553-41c0-f2b8-9568b6119f8c",
        "colab": {
          "base_uri": "https://localhost:8080/",
          "height": 282
        }
      },
      "source": [
        "sns.lineplot(data=df) "
      ],
      "execution_count": 0,
      "outputs": [
        {
          "output_type": "execute_result",
          "data": {
            "text/plain": [
              "<matplotlib.axes._subplots.AxesSubplot at 0x7f007ae34780>"
            ]
          },
          "metadata": {
            "tags": []
          },
          "execution_count": 83
        },
        {
          "output_type": "display_data",
          "data": {
            "image/png": "[encoded data removed]",
            "text/plain": [
              "<Figure size 432x288 with 1 Axes>"
            ]
          },
          "metadata": {
            "tags": [],
            "needs_background": "light"
          }
        }
      ]
    },
    {
      "cell_type": "markdown",
      "metadata": {
        "id": "Mpzt9uC9f8bq",
        "colab_type": "text"
      },
      "source": [
        "**Single** **Neural** **Network**"
      ]
    },
    {
      "cell_type": "code",
      "metadata": {
        "id": "Oq9O1S5egUl0",
        "colab_type": "code",
        "colab": {}
      },
      "source": [
        "import keras\n",
        "from keras.layers import Dense\n",
        "from keras.models import Sequential \n",
        "from keras.activations import relu\n",
        "from keras.activations import softmax\n",
        "from keras.optimizers import SGD\n",
        "from keras.callbacks import EarlyStopping"
      ],
      "execution_count": 0,
      "outputs": []
    },
    {
      "cell_type": "code",
      "metadata": {
        "id": "NW4WHc-GgCvu",
        "colab_type": "code",
        "colab": {}
      },
      "source": [
        "model = Sequential()\n",
        "model.add(Dense(1 , input_shape=[7]))\n",
        "model.compile(loss=\"mse\", optimizer=SGD(lr=1e-6, momentum=0.9))"
      ],
      "execution_count": 0,
      "outputs": []
    },
    {
      "cell_type": "code",
      "metadata": {
        "id": "6F86ivVZgo8y",
        "colab_type": "code",
        "outputId": "bde62244-4041-4caf-aab6-64955b85f207",
        "colab": {
          "base_uri": "https://localhost:8080/",
          "height": 1000
        }
      },
      "source": [
        "early_stopping_monitor = EarlyStopping(patience=3)\n",
        "model.fit(trainX , trainY, validation_split=0.2, epochs=100, callbacks=[early_stopping_monitor] , verbose=1)"
      ],
      "execution_count": 0,
      "outputs": [
        {
          "output_type": "stream",
          "text": [
            "Train on 711 samples, validate on 178 samples\n",
            "Epoch 1/100\n",
            "711/711 [==============================] - 0s 45us/step - loss: 0.2324 - val_loss: 0.2553\n",
            "Epoch 2/100\n",
            "711/711 [==============================] - 0s 35us/step - loss: 0.2323 - val_loss: 0.2552\n",
            "Epoch 3/100\n",
            "711/711 [==============================] - 0s 35us/step - loss: 0.2321 - val_loss: 0.2552\n",
            "Epoch 4/100\n",
            "711/711 [==============================] - 0s 36us/step - loss: 0.2322 - val_loss: 0.2551\n",
            "Epoch 5/100\n",
            "711/711 [==============================] - 0s 35us/step - loss: 0.2321 - val_loss: 0.2551\n",
            "Epoch 6/100\n",
            "711/711 [==============================] - 0s 35us/step - loss: 0.2320 - val_loss: 0.2550\n",
            "Epoch 7/100\n",
            "711/711 [==============================] - 0s 35us/step - loss: 0.2321 - val_loss: 0.2550\n",
            "Epoch 8/100\n",
            "711/711 [==============================] - 0s 34us/step - loss: 0.2321 - val_loss: 0.2550\n",
            "Epoch 9/100\n",
            "711/711 [==============================] - 0s 36us/step - loss: 0.2320 - val_loss: 0.2549\n",
            "Epoch 10/100\n",
            "711/711 [==============================] - 0s 37us/step - loss: 0.2320 - val_loss: 0.2550\n",
            "Epoch 11/100\n",
            "711/711 [==============================] - 0s 36us/step - loss: 0.2319 - val_loss: 0.2549\n",
            "Epoch 12/100\n",
            "711/711 [==============================] - 0s 36us/step - loss: 0.2319 - val_loss: 0.2550\n",
            "Epoch 13/100\n",
            "711/711 [==============================] - 0s 37us/step - loss: 0.2318 - val_loss: 0.2548\n",
            "Epoch 14/100\n",
            "711/711 [==============================] - 0s 34us/step - loss: 0.2318 - val_loss: 0.2548\n",
            "Epoch 15/100\n",
            "711/711 [==============================] - 0s 40us/step - loss: 0.2317 - val_loss: 0.2548\n",
            "Epoch 16/100\n",
            "711/711 [==============================] - 0s 37us/step - loss: 0.2318 - val_loss: 0.2547\n",
            "Epoch 17/100\n",
            "711/711 [==============================] - 0s 37us/step - loss: 0.2319 - val_loss: 0.2548\n",
            "Epoch 18/100\n",
            "711/711 [==============================] - 0s 42us/step - loss: 0.2317 - val_loss: 0.2547\n",
            "Epoch 19/100\n",
            "711/711 [==============================] - 0s 45us/step - loss: 0.2317 - val_loss: 0.2546\n",
            "Epoch 20/100\n",
            "711/711 [==============================] - 0s 50us/step - loss: 0.2319 - val_loss: 0.2546\n",
            "Epoch 21/100\n",
            "711/711 [==============================] - 0s 35us/step - loss: 0.2315 - val_loss: 0.2546\n",
            "Epoch 22/100\n",
            "711/711 [==============================] - 0s 34us/step - loss: 0.2315 - val_loss: 0.2545\n",
            "Epoch 23/100\n",
            "711/711 [==============================] - 0s 34us/step - loss: 0.2315 - val_loss: 0.2545\n",
            "Epoch 24/100\n",
            "711/711 [==============================] - 0s 34us/step - loss: 0.2316 - val_loss: 0.2544\n",
            "Epoch 25/100\n",
            "711/711 [==============================] - 0s 34us/step - loss: 0.2318 - val_loss: 0.2545\n",
            "Epoch 26/100\n",
            "711/711 [==============================] - 0s 38us/step - loss: 0.2312 - val_loss: 0.2544\n",
            "Epoch 27/100\n",
            "711/711 [==============================] - 0s 36us/step - loss: 0.2315 - val_loss: 0.2545\n",
            "Epoch 28/100\n",
            "711/711 [==============================] - 0s 36us/step - loss: 0.2314 - val_loss: 0.2543\n",
            "Epoch 29/100\n",
            "711/711 [==============================] - 0s 43us/step - loss: 0.2313 - val_loss: 0.2543\n",
            "Epoch 30/100\n",
            "711/711 [==============================] - 0s 34us/step - loss: 0.2313 - val_loss: 0.2543\n",
            "Epoch 31/100\n",
            "711/711 [==============================] - 0s 37us/step - loss: 0.2313 - val_loss: 0.2542\n",
            "Epoch 32/100\n",
            "711/711 [==============================] - 0s 35us/step - loss: 0.2313 - val_loss: 0.2545\n",
            "Epoch 33/100\n",
            "711/711 [==============================] - 0s 36us/step - loss: 0.2313 - val_loss: 0.2544\n",
            "Epoch 34/100\n",
            "711/711 [==============================] - 0s 35us/step - loss: 0.2314 - val_loss: 0.2541\n",
            "Epoch 35/100\n",
            "711/711 [==============================] - 0s 33us/step - loss: 0.2312 - val_loss: 0.2541\n",
            "Epoch 36/100\n",
            "711/711 [==============================] - 0s 35us/step - loss: 0.2311 - val_loss: 0.2541\n",
            "Epoch 37/100\n",
            "711/711 [==============================] - 0s 35us/step - loss: 0.2311 - val_loss: 0.2540\n",
            "Epoch 38/100\n",
            "711/711 [==============================] - 0s 35us/step - loss: 0.2312 - val_loss: 0.2540\n",
            "Epoch 39/100\n",
            "711/711 [==============================] - 0s 37us/step - loss: 0.2310 - val_loss: 0.2540\n",
            "Epoch 40/100\n",
            "711/711 [==============================] - 0s 36us/step - loss: 0.2310 - val_loss: 0.2539\n",
            "Epoch 41/100\n",
            "711/711 [==============================] - 0s 34us/step - loss: 0.2309 - val_loss: 0.2539\n",
            "Epoch 42/100\n",
            "711/711 [==============================] - 0s 33us/step - loss: 0.2310 - val_loss: 0.2539\n",
            "Epoch 43/100\n",
            "711/711 [==============================] - 0s 34us/step - loss: 0.2309 - val_loss: 0.2538\n",
            "Epoch 44/100\n",
            "711/711 [==============================] - 0s 34us/step - loss: 0.2309 - val_loss: 0.2538\n",
            "Epoch 45/100\n",
            "711/711 [==============================] - 0s 36us/step - loss: 0.2309 - val_loss: 0.2538\n",
            "Epoch 46/100\n",
            "711/711 [==============================] - 0s 34us/step - loss: 0.2309 - val_loss: 0.2538\n",
            "Epoch 47/100\n",
            "711/711 [==============================] - 0s 37us/step - loss: 0.2309 - val_loss: 0.2537\n",
            "Epoch 48/100\n",
            "711/711 [==============================] - 0s 38us/step - loss: 0.2308 - val_loss: 0.2537\n",
            "Epoch 49/100\n",
            "711/711 [==============================] - 0s 34us/step - loss: 0.2307 - val_loss: 0.2536\n",
            "Epoch 50/100\n",
            "711/711 [==============================] - 0s 33us/step - loss: 0.2307 - val_loss: 0.2536\n",
            "Epoch 51/100\n",
            "711/711 [==============================] - 0s 34us/step - loss: 0.2308 - val_loss: 0.2536\n",
            "Epoch 52/100\n",
            "711/711 [==============================] - 0s 42us/step - loss: 0.2307 - val_loss: 0.2536\n",
            "Epoch 53/100\n",
            "711/711 [==============================] - 0s 36us/step - loss: 0.2306 - val_loss: 0.2535\n",
            "Epoch 54/100\n",
            "711/711 [==============================] - 0s 37us/step - loss: 0.2309 - val_loss: 0.2535\n",
            "Epoch 55/100\n",
            "711/711 [==============================] - 0s 36us/step - loss: 0.2305 - val_loss: 0.2535\n",
            "Epoch 56/100\n",
            "711/711 [==============================] - 0s 36us/step - loss: 0.2306 - val_loss: 0.2535\n",
            "Epoch 57/100\n",
            "711/711 [==============================] - 0s 36us/step - loss: 0.2305 - val_loss: 0.2535\n",
            "Epoch 58/100\n",
            "711/711 [==============================] - 0s 37us/step - loss: 0.2304 - val_loss: 0.2534\n",
            "Epoch 59/100\n",
            "711/711 [==============================] - 0s 36us/step - loss: 0.2305 - val_loss: 0.2533\n",
            "Epoch 60/100\n",
            "711/711 [==============================] - 0s 35us/step - loss: 0.2304 - val_loss: 0.2533\n",
            "Epoch 61/100\n",
            "711/711 [==============================] - 0s 36us/step - loss: 0.2305 - val_loss: 0.2533\n",
            "Epoch 62/100\n",
            "711/711 [==============================] - 0s 36us/step - loss: 0.2303 - val_loss: 0.2533\n",
            "Epoch 63/100\n",
            "711/711 [==============================] - 0s 37us/step - loss: 0.2303 - val_loss: 0.2532\n",
            "Epoch 64/100\n",
            "711/711 [==============================] - 0s 36us/step - loss: 0.2303 - val_loss: 0.2532\n",
            "Epoch 65/100\n",
            "711/711 [==============================] - 0s 35us/step - loss: 0.2303 - val_loss: 0.2531\n",
            "Epoch 66/100\n",
            "711/711 [==============================] - 0s 35us/step - loss: 0.2303 - val_loss: 0.2531\n",
            "Epoch 67/100\n",
            "711/711 [==============================] - 0s 34us/step - loss: 0.2302 - val_loss: 0.2531\n",
            "Epoch 68/100\n",
            "711/711 [==============================] - 0s 39us/step - loss: 0.2302 - val_loss: 0.2530\n",
            "Epoch 69/100\n",
            "711/711 [==============================] - 0s 36us/step - loss: 0.2301 - val_loss: 0.2530\n",
            "Epoch 70/100\n",
            "711/711 [==============================] - 0s 41us/step - loss: 0.2301 - val_loss: 0.2530\n",
            "Epoch 71/100\n",
            "711/711 [==============================] - 0s 34us/step - loss: 0.2301 - val_loss: 0.2529\n",
            "Epoch 72/100\n",
            "711/711 [==============================] - 0s 34us/step - loss: 0.2300 - val_loss: 0.2529\n",
            "Epoch 73/100\n",
            "711/711 [==============================] - 0s 37us/step - loss: 0.2301 - val_loss: 0.2529\n",
            "Epoch 74/100\n",
            "711/711 [==============================] - 0s 34us/step - loss: 0.2301 - val_loss: 0.2528\n",
            "Epoch 75/100\n",
            "711/711 [==============================] - 0s 39us/step - loss: 0.2300 - val_loss: 0.2528\n",
            "Epoch 76/100\n",
            "711/711 [==============================] - 0s 34us/step - loss: 0.2299 - val_loss: 0.2528\n",
            "Epoch 77/100\n",
            "711/711 [==============================] - 0s 35us/step - loss: 0.2300 - val_loss: 0.2528\n",
            "Epoch 78/100\n",
            "711/711 [==============================] - 0s 33us/step - loss: 0.2299 - val_loss: 0.2528\n",
            "Epoch 79/100\n",
            "711/711 [==============================] - 0s 34us/step - loss: 0.2298 - val_loss: 0.2527\n",
            "Epoch 80/100\n",
            "711/711 [==============================] - 0s 34us/step - loss: 0.2304 - val_loss: 0.2527\n",
            "Epoch 81/100\n",
            "711/711 [==============================] - 0s 34us/step - loss: 0.2298 - val_loss: 0.2526\n",
            "Epoch 82/100\n",
            "711/711 [==============================] - 0s 34us/step - loss: 0.2298 - val_loss: 0.2526\n",
            "Epoch 83/100\n",
            "711/711 [==============================] - 0s 34us/step - loss: 0.2298 - val_loss: 0.2526\n",
            "Epoch 84/100\n",
            "711/711 [==============================] - 0s 34us/step - loss: 0.2298 - val_loss: 0.2526\n",
            "Epoch 85/100\n",
            "711/711 [==============================] - 0s 38us/step - loss: 0.2298 - val_loss: 0.2525\n",
            "Epoch 86/100\n",
            "711/711 [==============================] - 0s 33us/step - loss: 0.2297 - val_loss: 0.2525\n",
            "Epoch 87/100\n",
            "711/711 [==============================] - 0s 34us/step - loss: 0.2296 - val_loss: 0.2524\n",
            "Epoch 88/100\n",
            "711/711 [==============================] - 0s 34us/step - loss: 0.2296 - val_loss: 0.2524\n",
            "Epoch 89/100\n",
            "711/711 [==============================] - 0s 34us/step - loss: 0.2297 - val_loss: 0.2524\n",
            "Epoch 90/100\n",
            "711/711 [==============================] - 0s 35us/step - loss: 0.2296 - val_loss: 0.2524\n",
            "Epoch 91/100\n",
            "711/711 [==============================] - 0s 36us/step - loss: 0.2296 - val_loss: 0.2523\n",
            "Epoch 92/100\n",
            "711/711 [==============================] - 0s 34us/step - loss: 0.2295 - val_loss: 0.2523\n",
            "Epoch 93/100\n",
            "711/711 [==============================] - 0s 34us/step - loss: 0.2295 - val_loss: 0.2522\n",
            "Epoch 94/100\n",
            "711/711 [==============================] - 0s 35us/step - loss: 0.2296 - val_loss: 0.2522\n",
            "Epoch 95/100\n",
            "711/711 [==============================] - 0s 37us/step - loss: 0.2296 - val_loss: 0.2522\n",
            "Epoch 96/100\n",
            "711/711 [==============================] - 0s 34us/step - loss: 0.2297 - val_loss: 0.2522\n",
            "Epoch 97/100\n",
            "711/711 [==============================] - 0s 34us/step - loss: 0.2293 - val_loss: 0.2521\n",
            "Epoch 98/100\n",
            "711/711 [==============================] - 0s 34us/step - loss: 0.2294 - val_loss: 0.2521\n",
            "Epoch 99/100\n",
            "711/711 [==============================] - 0s 33us/step - loss: 0.2294 - val_loss: 0.2521\n",
            "Epoch 100/100\n",
            "711/711 [==============================] - 0s 35us/step - loss: 0.2293 - val_loss: 0.2521\n"
          ],
          "name": "stdout"
        },
        {
          "output_type": "execute_result",
          "data": {
            "text/plain": [
              "<keras.callbacks.callbacks.History at 0x7f007c731390>"
            ]
          },
          "metadata": {
            "tags": []
          },
          "execution_count": 52
        }
      ]
    },
    {
      "cell_type": "code",
      "metadata": {
        "id": "mIFWqJZWg1yh",
        "colab_type": "code",
        "colab": {}
      },
      "source": [
        "pred = model.predict(testX)"
      ],
      "execution_count": 0,
      "outputs": []
    },
    {
      "cell_type": "code",
      "metadata": {
        "id": "lWVJHTymg9wO",
        "colab_type": "code",
        "outputId": "56e299ce-a297-467f-dee0-58f32b2b99f9",
        "colab": {
          "base_uri": "https://localhost:8080/",
          "height": 68
        }
      },
      "source": [
        "print(keras.metrics.mean_squared_error(testY, pred).numpy().mean())\n",
        "print(keras.metrics.mean_absolute_error(testY, pred).numpy().mean())\n",
        "print(keras.metrics.mean_absolute_percentage_error(testY, pred).numpy().mean())"
      ],
      "execution_count": 0,
      "outputs": [
        {
          "output_type": "stream",
          "text": [
            "1.5709566\n",
            "1.0001767\n",
            "5.8953567\n"
          ],
          "name": "stdout"
        }
      ]
    },
    {
      "cell_type": "code",
      "metadata": {
        "id": "zoyEKAupNZmD",
        "colab_type": "code",
        "colab": {}
      },
      "source": [
        " pred = pred.reshape(100)"
      ],
      "execution_count": 0,
      "outputs": []
    },
    {
      "cell_type": "code",
      "metadata": {
        "id": "jFRrYUNoNmlU",
        "colab_type": "code",
        "outputId": "8a99746d-0b5a-4f92-82aa-831b739d0501",
        "colab": {
          "base_uri": "https://localhost:8080/",
          "height": 34
        }
      },
      "source": [
        "pred.shape"
      ],
      "execution_count": 0,
      "outputs": [
        {
          "output_type": "execute_result",
          "data": {
            "text/plain": [
              "(100,)"
            ]
          },
          "metadata": {
            "tags": []
          },
          "execution_count": 69
        }
      ]
    },
    {
      "cell_type": "code",
      "metadata": {
        "id": "2hwDlP3GNP0E",
        "colab_type": "code",
        "colab": {}
      },
      "source": [
        "d = {'pred': pred, 'testY': testY}\n",
        "df = pd.DataFrame(data=d)"
      ],
      "execution_count": 0,
      "outputs": []
    },
    {
      "cell_type": "code",
      "metadata": {
        "id": "Vg6Zg8gqOIGc",
        "colab_type": "code",
        "outputId": "456a229b-0ef7-467e-bd1a-3c697734f8ea",
        "colab": {
          "base_uri": "https://localhost:8080/",
          "height": 282
        }
      },
      "source": [
        "sns.lineplot(data=df) "
      ],
      "execution_count": 0,
      "outputs": [
        {
          "output_type": "execute_result",
          "data": {
            "text/plain": [
              "<matplotlib.axes._subplots.AxesSubplot at 0x7f007ae663c8>"
            ]
          },
          "metadata": {
            "tags": []
          },
          "execution_count": 75
        },
        {
          "output_type": "display_data",
          "data": {
            "image/png": "[encoded data removed]",
            "text/plain": [
              "<Figure size 432x288 with 1 Axes>"
            ]
          },
          "metadata": {
            "tags": [],
            "needs_background": "light"
          }
        }
      ]
    },
    {
      "cell_type": "code",
      "metadata": {
        "id": "AtOr0OD4ORcL",
        "colab_type": "code",
        "colab": {}
      },
      "source": [
        ""
      ],
      "execution_count": 0,
      "outputs": []
    }
  ]
}